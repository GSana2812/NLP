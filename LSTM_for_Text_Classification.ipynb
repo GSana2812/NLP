{
  "cells": [
    {
      "cell_type": "markdown",
      "metadata": {
        "id": "sPHqvex12FNc"
      },
      "source": [
        "## Importing Packages"
      ]
    },
    {
      "cell_type": "code",
      "execution_count": 4,
      "metadata": {
        "id": "qymxG9Lg6745"
      },
      "outputs": [],
      "source": [
        "import pandas as pd\n",
        "import numpy as np\n",
        "import matplotlib.pyplot as plt\n",
        "from sklearn.model_selection import train_test_split\n",
        "from sklearn.preprocessing import LabelEncoder\n",
        "from keras.models import Model\n",
        "from keras.layers import LSTM, Activation, Dense, Dropout, Input, Embedding\n",
        "from keras.optimizers import RMSprop\n",
        "from keras.preprocessing.text import Tokenizer\n",
        "from keras.preprocessing import sequence\n",
        "from keras.utils import to_categorical\n",
        "from keras.callbacks import EarlyStopping"
      ]
    },
    {
      "cell_type": "code",
      "execution_count": 6,
      "metadata": {
        "id": "OzC9jEDO77nI"
      },
      "outputs": [],
      "source": [
        "#Loading the dataset\n",
        "df = pd.read_csv('spam.csv', delimiter = ',', encoding = 'latin-1')"
      ]
    },
    {
      "cell_type": "code",
      "execution_count": 7,
      "metadata": {
        "colab": {
          "base_uri": "https://localhost:8080/",
          "height": 204
        },
        "id": "9o-VIRHZ80gD",
        "outputId": "f7cf15c2-bdef-4b98-a24e-c9d8f075e4e0"
      },
      "outputs": [
        {
          "output_type": "execute_result",
          "data": {
            "text/plain": [
              "     v1                                                 v2 Unnamed: 2  \\\n",
              "0   ham  Go until jurong point, crazy.. Available only ...        NaN   \n",
              "1   ham                      Ok lar... Joking wif u oni...        NaN   \n",
              "2  spam  Free entry in 2 a wkly comp to win FA Cup fina...        NaN   \n",
              "3   ham  U dun say so early hor... U c already then say...        NaN   \n",
              "4   ham  Nah I don't think he goes to usf, he lives aro...        NaN   \n",
              "\n",
              "  Unnamed: 3 Unnamed: 4  \n",
              "0        NaN        NaN  \n",
              "1        NaN        NaN  \n",
              "2        NaN        NaN  \n",
              "3        NaN        NaN  \n",
              "4        NaN        NaN  "
            ],
            "text/html": [
              "\n",
              "  <div id=\"df-333723aa-df0d-432f-a74a-d43434724bf9\">\n",
              "    <div class=\"colab-df-container\">\n",
              "      <div>\n",
              "<style scoped>\n",
              "    .dataframe tbody tr th:only-of-type {\n",
              "        vertical-align: middle;\n",
              "    }\n",
              "\n",
              "    .dataframe tbody tr th {\n",
              "        vertical-align: top;\n",
              "    }\n",
              "\n",
              "    .dataframe thead th {\n",
              "        text-align: right;\n",
              "    }\n",
              "</style>\n",
              "<table border=\"1\" class=\"dataframe\">\n",
              "  <thead>\n",
              "    <tr style=\"text-align: right;\">\n",
              "      <th></th>\n",
              "      <th>v1</th>\n",
              "      <th>v2</th>\n",
              "      <th>Unnamed: 2</th>\n",
              "      <th>Unnamed: 3</th>\n",
              "      <th>Unnamed: 4</th>\n",
              "    </tr>\n",
              "  </thead>\n",
              "  <tbody>\n",
              "    <tr>\n",
              "      <th>0</th>\n",
              "      <td>ham</td>\n",
              "      <td>Go until jurong point, crazy.. Available only ...</td>\n",
              "      <td>NaN</td>\n",
              "      <td>NaN</td>\n",
              "      <td>NaN</td>\n",
              "    </tr>\n",
              "    <tr>\n",
              "      <th>1</th>\n",
              "      <td>ham</td>\n",
              "      <td>Ok lar... Joking wif u oni...</td>\n",
              "      <td>NaN</td>\n",
              "      <td>NaN</td>\n",
              "      <td>NaN</td>\n",
              "    </tr>\n",
              "    <tr>\n",
              "      <th>2</th>\n",
              "      <td>spam</td>\n",
              "      <td>Free entry in 2 a wkly comp to win FA Cup fina...</td>\n",
              "      <td>NaN</td>\n",
              "      <td>NaN</td>\n",
              "      <td>NaN</td>\n",
              "    </tr>\n",
              "    <tr>\n",
              "      <th>3</th>\n",
              "      <td>ham</td>\n",
              "      <td>U dun say so early hor... U c already then say...</td>\n",
              "      <td>NaN</td>\n",
              "      <td>NaN</td>\n",
              "      <td>NaN</td>\n",
              "    </tr>\n",
              "    <tr>\n",
              "      <th>4</th>\n",
              "      <td>ham</td>\n",
              "      <td>Nah I don't think he goes to usf, he lives aro...</td>\n",
              "      <td>NaN</td>\n",
              "      <td>NaN</td>\n",
              "      <td>NaN</td>\n",
              "    </tr>\n",
              "  </tbody>\n",
              "</table>\n",
              "</div>\n",
              "      <button class=\"colab-df-convert\" onclick=\"convertToInteractive('df-333723aa-df0d-432f-a74a-d43434724bf9')\"\n",
              "              title=\"Convert this dataframe to an interactive table.\"\n",
              "              style=\"display:none;\">\n",
              "        \n",
              "  <svg xmlns=\"http://www.w3.org/2000/svg\" height=\"24px\"viewBox=\"0 0 24 24\"\n",
              "       width=\"24px\">\n",
              "    <path d=\"M0 0h24v24H0V0z\" fill=\"none\"/>\n",
              "    <path d=\"M18.56 5.44l.94 2.06.94-2.06 2.06-.94-2.06-.94-.94-2.06-.94 2.06-2.06.94zm-11 1L8.5 8.5l.94-2.06 2.06-.94-2.06-.94L8.5 2.5l-.94 2.06-2.06.94zm10 10l.94 2.06.94-2.06 2.06-.94-2.06-.94-.94-2.06-.94 2.06-2.06.94z\"/><path d=\"M17.41 7.96l-1.37-1.37c-.4-.4-.92-.59-1.43-.59-.52 0-1.04.2-1.43.59L10.3 9.45l-7.72 7.72c-.78.78-.78 2.05 0 2.83L4 21.41c.39.39.9.59 1.41.59.51 0 1.02-.2 1.41-.59l7.78-7.78 2.81-2.81c.8-.78.8-2.07 0-2.86zM5.41 20L4 18.59l7.72-7.72 1.47 1.35L5.41 20z\"/>\n",
              "  </svg>\n",
              "      </button>\n",
              "      \n",
              "  <style>\n",
              "    .colab-df-container {\n",
              "      display:flex;\n",
              "      flex-wrap:wrap;\n",
              "      gap: 12px;\n",
              "    }\n",
              "\n",
              "    .colab-df-convert {\n",
              "      background-color: #E8F0FE;\n",
              "      border: none;\n",
              "      border-radius: 50%;\n",
              "      cursor: pointer;\n",
              "      display: none;\n",
              "      fill: #1967D2;\n",
              "      height: 32px;\n",
              "      padding: 0 0 0 0;\n",
              "      width: 32px;\n",
              "    }\n",
              "\n",
              "    .colab-df-convert:hover {\n",
              "      background-color: #E2EBFA;\n",
              "      box-shadow: 0px 1px 2px rgba(60, 64, 67, 0.3), 0px 1px 3px 1px rgba(60, 64, 67, 0.15);\n",
              "      fill: #174EA6;\n",
              "    }\n",
              "\n",
              "    [theme=dark] .colab-df-convert {\n",
              "      background-color: #3B4455;\n",
              "      fill: #D2E3FC;\n",
              "    }\n",
              "\n",
              "    [theme=dark] .colab-df-convert:hover {\n",
              "      background-color: #434B5C;\n",
              "      box-shadow: 0px 1px 3px 1px rgba(0, 0, 0, 0.15);\n",
              "      filter: drop-shadow(0px 1px 2px rgba(0, 0, 0, 0.3));\n",
              "      fill: #FFFFFF;\n",
              "    }\n",
              "  </style>\n",
              "\n",
              "      <script>\n",
              "        const buttonEl =\n",
              "          document.querySelector('#df-333723aa-df0d-432f-a74a-d43434724bf9 button.colab-df-convert');\n",
              "        buttonEl.style.display =\n",
              "          google.colab.kernel.accessAllowed ? 'block' : 'none';\n",
              "\n",
              "        async function convertToInteractive(key) {\n",
              "          const element = document.querySelector('#df-333723aa-df0d-432f-a74a-d43434724bf9');\n",
              "          const dataTable =\n",
              "            await google.colab.kernel.invokeFunction('convertToInteractive',\n",
              "                                                     [key], {});\n",
              "          if (!dataTable) return;\n",
              "\n",
              "          const docLinkHtml = 'Like what you see? Visit the ' +\n",
              "            '<a target=\"_blank\" href=https://colab.research.google.com/notebooks/data_table.ipynb>data table notebook</a>'\n",
              "            + ' to learn more about interactive tables.';\n",
              "          element.innerHTML = '';\n",
              "          dataTable['output_type'] = 'display_data';\n",
              "          await google.colab.output.renderOutput(dataTable, element);\n",
              "          const docLink = document.createElement('div');\n",
              "          docLink.innerHTML = docLinkHtml;\n",
              "          element.appendChild(docLink);\n",
              "        }\n",
              "      </script>\n",
              "    </div>\n",
              "  </div>\n",
              "  "
            ]
          },
          "metadata": {},
          "execution_count": 7
        }
      ],
      "source": [
        "df.head()"
      ]
    },
    {
      "cell_type": "code",
      "execution_count": 8,
      "metadata": {
        "colab": {
          "base_uri": "https://localhost:8080/"
        },
        "id": "6osPijvk87h7",
        "outputId": "bc951879-c1b2-4ea8-f1c9-b4e178da0371"
      },
      "outputs": [
        {
          "output_type": "stream",
          "name": "stdout",
          "text": [
            "<class 'pandas.core.frame.DataFrame'>\n",
            "RangeIndex: 5572 entries, 0 to 5571\n",
            "Data columns (total 2 columns):\n",
            " #   Column  Non-Null Count  Dtype \n",
            "---  ------  --------------  ----- \n",
            " 0   v1      5572 non-null   object\n",
            " 1   v2      5572 non-null   object\n",
            "dtypes: object(2)\n",
            "memory usage: 87.2+ KB\n"
          ]
        }
      ],
      "source": [
        "#Drop the unnecessary columns, that don't reveal much information about our dataset\n",
        "df.drop(columns = ['Unnamed: 2','Unnamed: 3','Unnamed: 4'], inplace = True, axis = 1)\n",
        "\n",
        "df.info()"
      ]
    },
    {
      "cell_type": "code",
      "execution_count": 9,
      "metadata": {
        "colab": {
          "base_uri": "https://localhost:8080/",
          "height": 489
        },
        "id": "932XxS1xJRF3",
        "outputId": "3db4252d-22e8-4de7-92be-f6c5a3878b77"
      },
      "outputs": [
        {
          "output_type": "execute_result",
          "data": {
            "text/plain": [
              "Text(0.5, 0, 'V1')"
            ]
          },
          "metadata": {},
          "execution_count": 9
        },
        {
          "output_type": "display_data",
          "data": {
            "text/plain": [
              "<Figure size 640x480 with 1 Axes>"
            ],
            "image/png": "[encoded data removed]"
          },
          "metadata": {}
        }
      ],
      "source": [
        "#Plotting the distribution\n",
        "import seaborn as sns\n",
        "\n",
        "sns.countplot(data = df, x = 'v1')\n",
        "plt.title(\"Distribution of v1\")\n",
        "plt.xlabel(\"V1\")"
      ]
    },
    {
      "cell_type": "code",
      "execution_count": 10,
      "metadata": {
        "colab": {
          "base_uri": "https://localhost:8080/"
        },
        "id": "KFeazT5sJnYI",
        "outputId": "bf497030-211e-4498-ca54-871fbc653a1f"
      },
      "outputs": [
        {
          "output_type": "execute_result",
          "data": {
            "text/plain": [
              "ham     4825\n",
              "spam     747\n",
              "Name: v1, dtype: int64"
            ]
          },
          "metadata": {},
          "execution_count": 10
        }
      ],
      "source": [
        "df['v1'].value_counts()"
      ]
    },
    {
      "cell_type": "markdown",
      "metadata": {
        "id": "OV_YOevhKLda"
      },
      "source": [
        "## Splitting the data"
      ]
    },
    {
      "cell_type": "code",
      "execution_count": 11,
      "metadata": {
        "id": "_MlLJZNSKwtV"
      },
      "outputs": [],
      "source": [
        "X = df['v2']\n",
        "y = df['v1']"
      ]
    },
    {
      "cell_type": "code",
      "execution_count": 17,
      "metadata": {
        "id": "RuoYxXP0LMcN"
      },
      "outputs": [],
      "source": [
        "X_train,X_test,y_train,y_test = train_test_split(X,y,test_size=0.15)"
      ]
    },
    {
      "cell_type": "code",
      "execution_count": 18,
      "metadata": {
        "colab": {
          "base_uri": "https://localhost:8080/"
        },
        "id": "aTQdJk9CZXCO",
        "outputId": "737fb719-4161-4423-ccf8-2dc8aafe6b2c"
      },
      "outputs": [
        {
          "output_type": "execute_result",
          "data": {
            "text/plain": [
              "(4736,)"
            ]
          },
          "metadata": {},
          "execution_count": 18
        }
      ],
      "source": [
        "X_train.shape"
      ]
    },
    {
      "cell_type": "markdown",
      "metadata": {
        "id": "Ztbn8AaLLhfG"
      },
      "source": [
        "Label Encoding (v2) "
      ]
    },
    {
      "cell_type": "code",
      "execution_count": 19,
      "metadata": {
        "id": "3dmv7hubLjja"
      },
      "outputs": [],
      "source": [
        "encoder = LabelEncoder()\n",
        "\n",
        "y_train = encoder.fit_transform(y_train)\n",
        "#y_train = y_train.reshape(-1,1)"
      ]
    },
    {
      "cell_type": "code",
      "execution_count": 20,
      "metadata": {
        "colab": {
          "base_uri": "https://localhost:8080/"
        },
        "id": "68F1jFmxhKbI",
        "outputId": "c528b47d-f453-4a47-8d51-ee84ef41e3db"
      },
      "outputs": [
        {
          "output_type": "execute_result",
          "data": {
            "text/plain": [
              "(4736,)"
            ]
          },
          "metadata": {},
          "execution_count": 20
        }
      ],
      "source": [
        "y_train.shape"
      ]
    },
    {
      "cell_type": "markdown",
      "metadata": {
        "id": "YYro-h4zLuS2"
      },
      "source": [
        "## Data Processing"
      ]
    },
    {
      "cell_type": "markdown",
      "metadata": {
        "id": "K1azcY0MLvAy"
      },
      "source": [
        "**-> Tokenize the data and convert text to sequences**\n",
        "\n",
        "Converting text to sequences involves representing each word or token in the text as a numerical value or index. This step is typically performed using a process called tokenization, where each word is assigned a unique identifier.\n",
        "\n",
        "Creating an embedding layer is a subsequent step that involves mapping these tokenized indices to dense vector representations, often referred to as word embeddings."
      ]
    },
    {
      "cell_type": "markdown",
      "metadata": {
        "id": "Pl3hbgW0Mcin"
      },
      "source": [
        "**-> Add padding to ensure that all the sequences have the same shape.**\n",
        "\n",
        "Padding is a technique used in natural language processing (NLP) to ensure that sequences have the same length or shape. In the context of sequence processing, padding involves adding special tokens or values to the sequences to make them equal in length.\n",
        "\n"
      ]
    },
    {
      "cell_type": "code",
      "execution_count": 23,
      "metadata": {
        "id": "xrCbmnJLMz0j"
      },
      "outputs": [],
      "source": [
        "from keras.utils.data_utils import pad_sequences\n",
        "\n",
        "max_words = 1000 #max number of words to consider in the vocabulary\n",
        "max_len = 150 #creates a tokenizer object\n",
        "tok = Tokenizer(num_words=max_words)\n",
        "tok.fit_on_texts(X_train) #fits the tokenizer to train data\n",
        "sequences = tok.texts_to_sequences(X_train) #transform data trained into sequences\n",
        "padded_sequences = pad_sequences(sequences,maxlen=max_len) #applying padding\n",
        "padded_sequences_array  = np.array(padded_sequences)"
      ]
    },
    {
      "cell_type": "code",
      "execution_count": null,
      "metadata": {
        "colab": {
          "base_uri": "https://localhost:8080/"
        },
        "id": "4BvMI_DUPPw7",
        "outputId": "b783cc7c-8813-4178-91fe-184320af78a6"
      },
      "outputs": [
        {
          "data": {
            "text/plain": [
              "(4736, 150)"
            ]
          },
          "execution_count": 145,
          "metadata": {},
          "output_type": "execute_result"
        }
      ],
      "source": [
        "padded_sequences.shape"
      ]
    },
    {
      "cell_type": "markdown",
      "metadata": {
        "id": "cQGSGTnDRcu2"
      },
      "source": [
        "# RNN"
      ]
    },
    {
      "cell_type": "code",
      "execution_count": 25,
      "metadata": {
        "id": "R_GkCKHJThrS"
      },
      "outputs": [],
      "source": [
        "def RNN():\n",
        "    inputs = Input((150,))\n",
        "    layer = Embedding(max_words,50,input_length=max_len)(inputs)\n",
        "    layer = LSTM(64)(layer)\n",
        "    layer = Dense(256,name='FC1')(layer)\n",
        "    layer = Activation('relu')(layer)\n",
        "    layer = Dropout(0.5)(layer)\n",
        "    layer = Dense(2,name='out_layer',activation='sigmoid')(layer)\n",
        "    model = Model(inputs=inputs,outputs=layer)\n",
        "    return model"
      ]
    },
    {
      "cell_type": "code",
      "execution_count": 36,
      "metadata": {
        "id": "XzumIqkUXr76"
      },
      "outputs": [],
      "source": [
        "model = RNN()\n",
        "model.compile(loss='sparse_categorical_crossentropy',optimizer=RMSprop(),metrics=['accuracy'])"
      ]
    },
    {
      "cell_type": "code",
      "execution_count": 37,
      "metadata": {
        "colab": {
          "base_uri": "https://localhost:8080/"
        },
        "id": "187IHlz5eNSx",
        "outputId": "93963f2f-c971-4c87-963f-baa02f27503a"
      },
      "outputs": [
        {
          "output_type": "stream",
          "name": "stdout",
          "text": [
            "Model: \"model_3\"\n",
            "_________________________________________________________________\n",
            " Layer (type)                Output Shape              Param #   \n",
            "=================================================================\n",
            " input_5 (InputLayer)        [(None, 150)]             0         \n",
            "                                                                 \n",
            " embedding_3 (Embedding)     (None, 150, 50)           50000     \n",
            "                                                                 \n",
            " lstm_3 (LSTM)               (None, 64)                29440     \n",
            "                                                                 \n",
            " FC1 (Dense)                 (None, 256)               16640     \n",
            "                                                                 \n",
            " activation_3 (Activation)   (None, 256)               0         \n",
            "                                                                 \n",
            " dropout_3 (Dropout)         (None, 256)               0         \n",
            "                                                                 \n",
            " out_layer (Dense)           (None, 2)                 514       \n",
            "                                                                 \n",
            "=================================================================\n",
            "Total params: 96,594\n",
            "Trainable params: 96,594\n",
            "Non-trainable params: 0\n",
            "_________________________________________________________________\n"
          ]
        }
      ],
      "source": [
        "model.summary()"
      ]
    },
    {
      "cell_type": "code",
      "execution_count": 38,
      "metadata": {
        "colab": {
          "base_uri": "https://localhost:8080/"
        },
        "id": "L4RTPqJhhCcO",
        "outputId": "d1ffe779-0112-468d-f06c-ca25937730f3"
      },
      "outputs": [
        {
          "output_type": "execute_result",
          "data": {
            "text/plain": [
              "(4736,)"
            ]
          },
          "metadata": {},
          "execution_count": 38
        }
      ],
      "source": [
        "Y_train.shape"
      ]
    },
    {
      "cell_type": "code",
      "execution_count": 39,
      "metadata": {
        "colab": {
          "base_uri": "https://localhost:8080/"
        },
        "id": "geg-4EDkY5_3",
        "outputId": "51e91e7e-3759-4d25-9ba7-e2388470e860"
      },
      "outputs": [
        {
          "output_type": "stream",
          "name": "stdout",
          "text": [
            "Epoch 1/15\n",
            "34/34 [==============================] - 13s 323ms/step - loss: 0.2844 - accuracy: 0.8895 - val_loss: 0.1111 - val_accuracy: 0.9831\n",
            "Epoch 2/15\n",
            "34/34 [==============================] - 10s 302ms/step - loss: 0.0685 - accuracy: 0.9819 - val_loss: 0.0659 - val_accuracy: 0.9810\n",
            "Epoch 3/15\n",
            "34/34 [==============================] - 10s 305ms/step - loss: 0.0442 - accuracy: 0.9873 - val_loss: 0.0495 - val_accuracy: 0.9810\n",
            "Epoch 4/15\n",
            "34/34 [==============================] - 9s 273ms/step - loss: 0.0338 - accuracy: 0.9901 - val_loss: 0.0870 - val_accuracy: 0.9747\n",
            "Epoch 5/15\n",
            "34/34 [==============================] - 10s 286ms/step - loss: 0.0270 - accuracy: 0.9920 - val_loss: 0.0728 - val_accuracy: 0.9747\n",
            "Epoch 6/15\n",
            "34/34 [==============================] - 10s 305ms/step - loss: 0.0206 - accuracy: 0.9948 - val_loss: 0.0467 - val_accuracy: 0.9873\n",
            "Epoch 7/15\n",
            "34/34 [==============================] - 10s 307ms/step - loss: 0.0160 - accuracy: 0.9951 - val_loss: 0.0553 - val_accuracy: 0.9831\n",
            "Epoch 8/15\n",
            "34/34 [==============================] - 10s 289ms/step - loss: 0.0125 - accuracy: 0.9965 - val_loss: 0.0594 - val_accuracy: 0.9852\n",
            "Epoch 9/15\n",
            "34/34 [==============================] - 9s 257ms/step - loss: 0.0118 - accuracy: 0.9969 - val_loss: 0.0713 - val_accuracy: 0.9831\n",
            "Epoch 10/15\n",
            "34/34 [==============================] - 11s 316ms/step - loss: 0.0106 - accuracy: 0.9974 - val_loss: 0.0530 - val_accuracy: 0.9895\n",
            "Epoch 11/15\n",
            "34/34 [==============================] - 10s 299ms/step - loss: 0.0086 - accuracy: 0.9981 - val_loss: 0.0713 - val_accuracy: 0.9810\n",
            "Epoch 12/15\n",
            "34/34 [==============================] - 10s 301ms/step - loss: 0.0074 - accuracy: 0.9979 - val_loss: 0.0766 - val_accuracy: 0.9831\n",
            "Epoch 13/15\n",
            "34/34 [==============================] - 9s 266ms/step - loss: 0.0065 - accuracy: 0.9986 - val_loss: 0.0799 - val_accuracy: 0.9852\n",
            "Epoch 14/15\n",
            "34/34 [==============================] - 10s 305ms/step - loss: 0.0061 - accuracy: 0.9986 - val_loss: 0.0864 - val_accuracy: 0.9852\n",
            "Epoch 15/15\n",
            "34/34 [==============================] - 10s 307ms/step - loss: 0.0041 - accuracy: 0.9991 - val_loss: 0.0849 - val_accuracy: 0.9873\n"
          ]
        },
        {
          "output_type": "execute_result",
          "data": {
            "text/plain": [
              "<keras.callbacks.History at 0x7fe96e265630>"
            ]
          },
          "metadata": {},
          "execution_count": 39
        }
      ],
      "source": [
        "model.fit(padded_sequences,y_train,batch_size=128,epochs=15,\n",
        "          validation_split=0.1)#callbacks=[EarlyStopping(monitor='val_loss',min_delta=0.0001)])"
      ]
    },
    {
      "cell_type": "code",
      "execution_count": 42,
      "metadata": {
        "id": "hakFZ78xeMbx"
      },
      "outputs": [],
      "source": [
        "#Processing the text data\n",
        "test_sequences = tok.texts_to_sequences(X_test)\n",
        "test_sequences_matrix = np.array(pad_sequences(test_sequences,maxlen=max_len))"
      ]
    },
    {
      "cell_type": "code",
      "execution_count": 44,
      "metadata": {
        "id": "fl00cJuHcl6p",
        "colab": {
          "base_uri": "https://localhost:8080/"
        },
        "outputId": "d61c4f59-9eac-487f-e676-882239ad13b8"
      },
      "outputs": [
        {
          "output_type": "execute_result",
          "data": {
            "text/plain": [
              "(836, 150)"
            ]
          },
          "metadata": {},
          "execution_count": 44
        }
      ],
      "source": [
        "#Evaluating model on the test set\n",
        "test_sequences_matrix.shape"
      ]
    },
    {
      "cell_type": "code",
      "source": [
        "#Encoding the y_test\n",
        "y_test = y_test = encoder.fit_transform(y_test)"
      ],
      "metadata": {
        "id": "9uvcg4QvuYdm"
      },
      "execution_count": 52,
      "outputs": []
    },
    {
      "cell_type": "code",
      "source": [
        "accuracy = model.evaluate(test_sequences_matrix, y_test)"
      ],
      "metadata": {
        "colab": {
          "base_uri": "https://localhost:8080/"
        },
        "id": "fwe4gAvmt0zZ",
        "outputId": "20c16afb-8414-4538-c5c7-76886b0681c4"
      },
      "execution_count": 53,
      "outputs": [
        {
          "output_type": "stream",
          "name": "stdout",
          "text": [
            "27/27 [==============================] - 1s 47ms/step - loss: 0.0372 - accuracy: 0.9928\n"
          ]
        }
      ]
    },
    {
      "cell_type": "code",
      "source": [
        "print(\"Loss is: \",accuracy[0])\n",
        "print(\"Accuracy is: \",accuracy[1])"
      ],
      "metadata": {
        "colab": {
          "base_uri": "https://localhost:8080/"
        },
        "id": "MqjQeSuNuEaO",
        "outputId": "c7549491-c2f5-4c51-81c4-9c26f5cf2266"
      },
      "execution_count": 56,
      "outputs": [
        {
          "output_type": "stream",
          "name": "stdout",
          "text": [
            "Loss is:  0.037194643169641495\n",
            "Accuracy is:  0.9928229451179504\n"
          ]
        }
      ]
    },
    {
      "cell_type": "code",
      "source": [],
      "metadata": {
        "id": "ezVq4fwVuone"
      },
      "execution_count": null,
      "outputs": []
    }
  ],
  "metadata": {
    "colab": {
      "provenance": []
    },
    "kernelspec": {
      "display_name": "Python 3",
      "name": "python3"
    },
    "language_info": {
      "name": "python"
    }
  },
  "nbformat": 4,
  "nbformat_minor": 0
}